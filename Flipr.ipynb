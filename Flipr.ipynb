{
  "nbformat": 4,
  "nbformat_minor": 0,
  "metadata": {
    "colab": {
      "name": "Flipr",
      "provenance": [],
      "collapsed_sections": [],
      "include_colab_link": true
    },
    "kernelspec": {
      "name": "python3",
      "display_name": "Python 3"
    }
  },
  "cells": [
    {
      "cell_type": "markdown",
      "metadata": {
        "id": "view-in-github",
        "colab_type": "text"
      },
      "source": [
        "<a href=\"https://colab.research.google.com/github/J-Kiruthika/Python-for-DataScience/blob/master/Flipr.ipynb\" target=\"_parent\"><img src=\"https://colab.research.google.com/assets/colab-badge.svg\" alt=\"Open In Colab\"/></a>"
      ]
    },
    {
      "cell_type": "markdown",
      "metadata": {
        "id": "_uOZbJDtlpgh",
        "colab_type": "text"
      },
      "source": [
        "Flipr"
      ]
    },
    {
      "cell_type": "code",
      "metadata": {
        "id": "51jAkLxh1IZI",
        "colab_type": "code",
        "colab": {
          "base_uri": "https://localhost:8080/",
          "height": 524
        },
        "outputId": "305ec167-15ed-4765-a863-cf305486d74c"
      },
      "source": [
        "import pandas as pd\n",
        "import seaborn as sb\n",
        "train = pd.read_excel('/content/train-processed.xlsx')\n",
        "train.head()\n",
        "train.dropna(how=\"all\")\n",
        "\n"
      ],
      "execution_count": 133,
      "outputs": [
        {
          "output_type": "stream",
          "text": [
            "/usr/local/lib/python3.6/dist-packages/statsmodels/tools/_testing.py:19: FutureWarning: pandas.util.testing is deprecated. Use the functions in the public API at pandas.testing instead.\n",
            "  import pandas.util.testing as tm\n"
          ],
          "name": "stderr"
        },
        {
          "output_type": "execute_result",
          "data": {
            "text/html": [
              "<div>\n",
              "<style scoped>\n",
              "    .dataframe tbody tr th:only-of-type {\n",
              "        vertical-align: middle;\n",
              "    }\n",
              "\n",
              "    .dataframe tbody tr th {\n",
              "        vertical-align: top;\n",
              "    }\n",
              "\n",
              "    .dataframe thead th {\n",
              "        text-align: right;\n",
              "    }\n",
              "</style>\n",
              "<table border=\"1\" class=\"dataframe\">\n",
              "  <thead>\n",
              "    <tr style=\"text-align: right;\">\n",
              "      <th></th>\n",
              "      <th>Unnamed: 0</th>\n",
              "      <th>city</th>\n",
              "      <th>city_type</th>\n",
              "      <th>median_age</th>\n",
              "      <th>avg_temp</th>\n",
              "      <th>swm</th>\n",
              "      <th>toilets_avl</th>\n",
              "      <th>water_purity</th>\n",
              "      <th>h_index</th>\n",
              "      <th>hospitals</th>\n",
              "      <th>foreign_visitors</th>\n",
              "      <th>Population Estimated for 2020 Till Aug</th>\n",
              "      <th>covid_cases</th>\n",
              "    </tr>\n",
              "  </thead>\n",
              "  <tbody>\n",
              "    <tr>\n",
              "      <th>0</th>\n",
              "      <td>0</td>\n",
              "      <td>mumbai</td>\n",
              "      <td>17</td>\n",
              "      <td>23</td>\n",
              "      <td>32</td>\n",
              "      <td>1</td>\n",
              "      <td>219</td>\n",
              "      <td>150</td>\n",
              "      <td>0.700440</td>\n",
              "      <td>159</td>\n",
              "      <td>4408916</td>\n",
              "      <td>12860011</td>\n",
              "      <td>163115</td>\n",
              "    </tr>\n",
              "    <tr>\n",
              "      <th>1</th>\n",
              "      <td>1</td>\n",
              "      <td>delhi</td>\n",
              "      <td>17</td>\n",
              "      <td>27</td>\n",
              "      <td>30</td>\n",
              "      <td>1</td>\n",
              "      <td>215</td>\n",
              "      <td>196</td>\n",
              "      <td>0.920018</td>\n",
              "      <td>148</td>\n",
              "      <td>2379169</td>\n",
              "      <td>12097762</td>\n",
              "      <td>80188</td>\n",
              "    </tr>\n",
              "    <tr>\n",
              "      <th>2</th>\n",
              "      <td>2</td>\n",
              "      <td>bangalore</td>\n",
              "      <td>20</td>\n",
              "      <td>28</td>\n",
              "      <td>37</td>\n",
              "      <td>0</td>\n",
              "      <td>212</td>\n",
              "      <td>102</td>\n",
              "      <td>0.097085</td>\n",
              "      <td>123</td>\n",
              "      <td>636502</td>\n",
              "      <td>15466316</td>\n",
              "      <td>141000</td>\n",
              "    </tr>\n",
              "    <tr>\n",
              "      <th>3</th>\n",
              "      <td>3</td>\n",
              "      <td>hyderabad</td>\n",
              "      <td>20</td>\n",
              "      <td>23</td>\n",
              "      <td>31</td>\n",
              "      <td>1</td>\n",
              "      <td>217</td>\n",
              "      <td>118</td>\n",
              "      <td>0.827744</td>\n",
              "      <td>110</td>\n",
              "      <td>126078</td>\n",
              "      <td>11957467</td>\n",
              "      <td>55123</td>\n",
              "    </tr>\n",
              "    <tr>\n",
              "      <th>4</th>\n",
              "      <td>4</td>\n",
              "      <td>ahmedabad</td>\n",
              "      <td>20</td>\n",
              "      <td>29</td>\n",
              "      <td>25</td>\n",
              "      <td>2</td>\n",
              "      <td>227</td>\n",
              "      <td>109</td>\n",
              "      <td>0.847941</td>\n",
              "      <td>73</td>\n",
              "      <td>284973</td>\n",
              "      <td>8382870</td>\n",
              "      <td>33204</td>\n",
              "    </tr>\n",
              "    <tr>\n",
              "      <th>...</th>\n",
              "      <td>...</td>\n",
              "      <td>...</td>\n",
              "      <td>...</td>\n",
              "      <td>...</td>\n",
              "      <td>...</td>\n",
              "      <td>...</td>\n",
              "      <td>...</td>\n",
              "      <td>...</td>\n",
              "      <td>...</td>\n",
              "      <td>...</td>\n",
              "      <td>...</td>\n",
              "      <td>...</td>\n",
              "      <td>...</td>\n",
              "    </tr>\n",
              "    <tr>\n",
              "      <th>782</th>\n",
              "      <td>782</td>\n",
              "      <td>lunawada</td>\n",
              "      <td>3</td>\n",
              "      <td>23</td>\n",
              "      <td>28</td>\n",
              "      <td>1</td>\n",
              "      <td>68</td>\n",
              "      <td>103</td>\n",
              "      <td>0.035280</td>\n",
              "      <td>19</td>\n",
              "      <td>284973</td>\n",
              "      <td>46266</td>\n",
              "      <td>1944</td>\n",
              "    </tr>\n",
              "    <tr>\n",
              "      <th>783</th>\n",
              "      <td>783</td>\n",
              "      <td>murshidabad</td>\n",
              "      <td>3</td>\n",
              "      <td>23</td>\n",
              "      <td>36</td>\n",
              "      <td>1</td>\n",
              "      <td>62</td>\n",
              "      <td>136</td>\n",
              "      <td>0.056394</td>\n",
              "      <td>22</td>\n",
              "      <td>1489500</td>\n",
              "      <td>46258</td>\n",
              "      <td>2172</td>\n",
              "    </tr>\n",
              "    <tr>\n",
              "      <th>784</th>\n",
              "      <td>784</td>\n",
              "      <td>mahe</td>\n",
              "      <td>3</td>\n",
              "      <td>28</td>\n",
              "      <td>28</td>\n",
              "      <td>0</td>\n",
              "      <td>98</td>\n",
              "      <td>138</td>\n",
              "      <td>0.066752</td>\n",
              "      <td>27</td>\n",
              "      <td>106153</td>\n",
              "      <td>46108</td>\n",
              "      <td>2851</td>\n",
              "    </tr>\n",
              "    <tr>\n",
              "      <th>785</th>\n",
              "      <td>785</td>\n",
              "      <td>lanka</td>\n",
              "      <td>15</td>\n",
              "      <td>24</td>\n",
              "      <td>6</td>\n",
              "      <td>1</td>\n",
              "      <td>63</td>\n",
              "      <td>145</td>\n",
              "      <td>0.627556</td>\n",
              "      <td>15</td>\n",
              "      <td>24720</td>\n",
              "      <td>46889</td>\n",
              "      <td>2158</td>\n",
              "    </tr>\n",
              "    <tr>\n",
              "      <th>786</th>\n",
              "      <td>786</td>\n",
              "      <td>rudauli</td>\n",
              "      <td>15</td>\n",
              "      <td>25</td>\n",
              "      <td>37</td>\n",
              "      <td>0</td>\n",
              "      <td>51</td>\n",
              "      <td>181</td>\n",
              "      <td>0.313383</td>\n",
              "      <td>30</td>\n",
              "      <td>3104060</td>\n",
              "      <td>46853</td>\n",
              "      <td>2220</td>\n",
              "    </tr>\n",
              "  </tbody>\n",
              "</table>\n",
              "<p>787 rows × 13 columns</p>\n",
              "</div>"
            ],
            "text/plain": [
              "     Unnamed: 0  ... covid_cases\n",
              "0             0  ...      163115\n",
              "1             1  ...       80188\n",
              "2             2  ...      141000\n",
              "3             3  ...       55123\n",
              "4             4  ...       33204\n",
              "..          ...  ...         ...\n",
              "782         782  ...        1944\n",
              "783         783  ...        2172\n",
              "784         784  ...        2851\n",
              "785         785  ...        2158\n",
              "786         786  ...        2220\n",
              "\n",
              "[787 rows x 13 columns]"
            ]
          },
          "metadata": {
            "tags": []
          },
          "execution_count": 133
        }
      ]
    },
    {
      "cell_type": "code",
      "metadata": {
        "id": "2o4n_re9M6QM",
        "colab_type": "code",
        "colab": {
          "base_uri": "https://localhost:8080/",
          "height": 241
        },
        "outputId": "97a64799-f252-447f-a5ba-d5653056f8d1"
      },
      "source": [
        "test = pd.read_csv('/content/TestDataFinal (1).csv')\n",
        "test.head()"
      ],
      "execution_count": 134,
      "outputs": [
        {
          "output_type": "execute_result",
          "data": {
            "text/html": [
              "<div>\n",
              "<style scoped>\n",
              "    .dataframe tbody tr th:only-of-type {\n",
              "        vertical-align: middle;\n",
              "    }\n",
              "\n",
              "    .dataframe tbody tr th {\n",
              "        vertical-align: top;\n",
              "    }\n",
              "\n",
              "    .dataframe thead th {\n",
              "        text-align: right;\n",
              "    }\n",
              "</style>\n",
              "<table border=\"1\" class=\"dataframe\">\n",
              "  <thead>\n",
              "    <tr style=\"text-align: right;\">\n",
              "      <th></th>\n",
              "      <th>Unnamed: 0</th>\n",
              "      <th>city</th>\n",
              "      <th>city_type</th>\n",
              "      <th>median_age</th>\n",
              "      <th>avg_temp</th>\n",
              "      <th>swm</th>\n",
              "      <th>toilets_avl</th>\n",
              "      <th>water_purity</th>\n",
              "      <th>h_index</th>\n",
              "      <th>hospitals</th>\n",
              "      <th>foreign_visitors</th>\n",
              "      <th>population_till_aug</th>\n",
              "    </tr>\n",
              "  </thead>\n",
              "  <tbody>\n",
              "    <tr>\n",
              "      <th>0</th>\n",
              "      <td>0</td>\n",
              "      <td>tuensang</td>\n",
              "      <td>6</td>\n",
              "      <td>23.0</td>\n",
              "      <td>10.0</td>\n",
              "      <td>MEDIUM</td>\n",
              "      <td>94.0</td>\n",
              "      <td>114.0</td>\n",
              "      <td>0.253390</td>\n",
              "      <td>17.0</td>\n",
              "      <td>2769.0</td>\n",
              "      <td>48234.315986</td>\n",
              "    </tr>\n",
              "    <tr>\n",
              "      <th>1</th>\n",
              "      <td>1</td>\n",
              "      <td>lakshmeshwar</td>\n",
              "      <td>14</td>\n",
              "      <td>25.0</td>\n",
              "      <td>38.0</td>\n",
              "      <td>HIGH</td>\n",
              "      <td>62.0</td>\n",
              "      <td>160.0</td>\n",
              "      <td>0.192555</td>\n",
              "      <td>13.0</td>\n",
              "      <td>636502.0</td>\n",
              "      <td>48187.482655</td>\n",
              "    </tr>\n",
              "    <tr>\n",
              "      <th>2</th>\n",
              "      <td>2</td>\n",
              "      <td>zira</td>\n",
              "      <td>18</td>\n",
              "      <td>29.0</td>\n",
              "      <td>35.0</td>\n",
              "      <td>HIGH</td>\n",
              "      <td>63.0</td>\n",
              "      <td>105.0</td>\n",
              "      <td>0.887882</td>\n",
              "      <td>17.0</td>\n",
              "      <td>242367.0</td>\n",
              "      <td>42789.621241</td>\n",
              "    </tr>\n",
              "    <tr>\n",
              "      <th>3</th>\n",
              "      <td>3</td>\n",
              "      <td>yawal</td>\n",
              "      <td>18</td>\n",
              "      <td>26.0</td>\n",
              "      <td>31.0</td>\n",
              "      <td>HIGH</td>\n",
              "      <td>60.0</td>\n",
              "      <td>174.0</td>\n",
              "      <td>0.407838</td>\n",
              "      <td>11.0</td>\n",
              "      <td>4408916.0</td>\n",
              "      <td>42759.333477</td>\n",
              "    </tr>\n",
              "    <tr>\n",
              "      <th>4</th>\n",
              "      <td>4</td>\n",
              "      <td>thanabhawan</td>\n",
              "      <td>1</td>\n",
              "      <td>28.0</td>\n",
              "      <td>39.0</td>\n",
              "      <td>LOW</td>\n",
              "      <td>92.0</td>\n",
              "      <td>153.0</td>\n",
              "      <td>0.324456</td>\n",
              "      <td>23.0</td>\n",
              "      <td>3104060.0</td>\n",
              "      <td>48089.854380</td>\n",
              "    </tr>\n",
              "  </tbody>\n",
              "</table>\n",
              "</div>"
            ],
            "text/plain": [
              "   Unnamed: 0          city  ...  foreign_visitors  population_till_aug\n",
              "0           0      tuensang  ...            2769.0         48234.315986\n",
              "1           1  lakshmeshwar  ...          636502.0         48187.482655\n",
              "2           2          zira  ...          242367.0         42789.621241\n",
              "3           3         yawal  ...         4408916.0         42759.333477\n",
              "4           4   thanabhawan  ...         3104060.0         48089.854380\n",
              "\n",
              "[5 rows x 12 columns]"
            ]
          },
          "metadata": {
            "tags": []
          },
          "execution_count": 134
        }
      ]
    },
    {
      "cell_type": "code",
      "metadata": {
        "id": "8mX36mjUUwSf",
        "colab_type": "code",
        "colab": {
          "base_uri": "https://localhost:8080/",
          "height": 221
        },
        "outputId": "9348109e-1205-40a2-aa5f-b7ca3e5f9432"
      },
      "source": [
        "train['Population Estimated for 2020 Till Aug'].round(2)\n",
        "test['population_till_aug'].round(2)"
      ],
      "execution_count": 135,
      "outputs": [
        {
          "output_type": "execute_result",
          "data": {
            "text/plain": [
              "0      48234.32\n",
              "1      48187.48\n",
              "2      42789.62\n",
              "3      42759.33\n",
              "4      48089.85\n",
              "         ...   \n",
              "496     2152.10\n",
              "497     1989.48\n",
              "498      802.61\n",
              "499      144.26\n",
              "500    32459.81\n",
              "Name: population_till_aug, Length: 501, dtype: float64"
            ]
          },
          "metadata": {
            "tags": []
          },
          "execution_count": 135
        }
      ]
    },
    {
      "cell_type": "code",
      "metadata": {
        "id": "myljdOo4YhM1",
        "colab_type": "code",
        "colab": {
          "base_uri": "https://localhost:8080/",
          "height": 241
        },
        "outputId": "aeabc63e-6c3d-4bef-e6d0-3bb1efcf1a06"
      },
      "source": [
        "test.columns\n",
        "test.head()\n",
        "swm_categories = {\"HIGH\":0 ,\"MEDIUM\":1 ,\"LOW\":2}\n",
        "test['swm'] = test['swm'].map(swm_categories)\n",
        "test.head()"
      ],
      "execution_count": 136,
      "outputs": [
        {
          "output_type": "execute_result",
          "data": {
            "text/html": [
              "<div>\n",
              "<style scoped>\n",
              "    .dataframe tbody tr th:only-of-type {\n",
              "        vertical-align: middle;\n",
              "    }\n",
              "\n",
              "    .dataframe tbody tr th {\n",
              "        vertical-align: top;\n",
              "    }\n",
              "\n",
              "    .dataframe thead th {\n",
              "        text-align: right;\n",
              "    }\n",
              "</style>\n",
              "<table border=\"1\" class=\"dataframe\">\n",
              "  <thead>\n",
              "    <tr style=\"text-align: right;\">\n",
              "      <th></th>\n",
              "      <th>Unnamed: 0</th>\n",
              "      <th>city</th>\n",
              "      <th>city_type</th>\n",
              "      <th>median_age</th>\n",
              "      <th>avg_temp</th>\n",
              "      <th>swm</th>\n",
              "      <th>toilets_avl</th>\n",
              "      <th>water_purity</th>\n",
              "      <th>h_index</th>\n",
              "      <th>hospitals</th>\n",
              "      <th>foreign_visitors</th>\n",
              "      <th>population_till_aug</th>\n",
              "    </tr>\n",
              "  </thead>\n",
              "  <tbody>\n",
              "    <tr>\n",
              "      <th>0</th>\n",
              "      <td>0</td>\n",
              "      <td>tuensang</td>\n",
              "      <td>6</td>\n",
              "      <td>23.0</td>\n",
              "      <td>10.0</td>\n",
              "      <td>1</td>\n",
              "      <td>94.0</td>\n",
              "      <td>114.0</td>\n",
              "      <td>0.253390</td>\n",
              "      <td>17.0</td>\n",
              "      <td>2769.0</td>\n",
              "      <td>48234.315986</td>\n",
              "    </tr>\n",
              "    <tr>\n",
              "      <th>1</th>\n",
              "      <td>1</td>\n",
              "      <td>lakshmeshwar</td>\n",
              "      <td>14</td>\n",
              "      <td>25.0</td>\n",
              "      <td>38.0</td>\n",
              "      <td>0</td>\n",
              "      <td>62.0</td>\n",
              "      <td>160.0</td>\n",
              "      <td>0.192555</td>\n",
              "      <td>13.0</td>\n",
              "      <td>636502.0</td>\n",
              "      <td>48187.482655</td>\n",
              "    </tr>\n",
              "    <tr>\n",
              "      <th>2</th>\n",
              "      <td>2</td>\n",
              "      <td>zira</td>\n",
              "      <td>18</td>\n",
              "      <td>29.0</td>\n",
              "      <td>35.0</td>\n",
              "      <td>0</td>\n",
              "      <td>63.0</td>\n",
              "      <td>105.0</td>\n",
              "      <td>0.887882</td>\n",
              "      <td>17.0</td>\n",
              "      <td>242367.0</td>\n",
              "      <td>42789.621241</td>\n",
              "    </tr>\n",
              "    <tr>\n",
              "      <th>3</th>\n",
              "      <td>3</td>\n",
              "      <td>yawal</td>\n",
              "      <td>18</td>\n",
              "      <td>26.0</td>\n",
              "      <td>31.0</td>\n",
              "      <td>0</td>\n",
              "      <td>60.0</td>\n",
              "      <td>174.0</td>\n",
              "      <td>0.407838</td>\n",
              "      <td>11.0</td>\n",
              "      <td>4408916.0</td>\n",
              "      <td>42759.333477</td>\n",
              "    </tr>\n",
              "    <tr>\n",
              "      <th>4</th>\n",
              "      <td>4</td>\n",
              "      <td>thanabhawan</td>\n",
              "      <td>1</td>\n",
              "      <td>28.0</td>\n",
              "      <td>39.0</td>\n",
              "      <td>2</td>\n",
              "      <td>92.0</td>\n",
              "      <td>153.0</td>\n",
              "      <td>0.324456</td>\n",
              "      <td>23.0</td>\n",
              "      <td>3104060.0</td>\n",
              "      <td>48089.854380</td>\n",
              "    </tr>\n",
              "  </tbody>\n",
              "</table>\n",
              "</div>"
            ],
            "text/plain": [
              "   Unnamed: 0          city  ...  foreign_visitors  population_till_aug\n",
              "0           0      tuensang  ...            2769.0         48234.315986\n",
              "1           1  lakshmeshwar  ...          636502.0         48187.482655\n",
              "2           2          zira  ...          242367.0         42789.621241\n",
              "3           3         yawal  ...         4408916.0         42759.333477\n",
              "4           4   thanabhawan  ...         3104060.0         48089.854380\n",
              "\n",
              "[5 rows x 12 columns]"
            ]
          },
          "metadata": {
            "tags": []
          },
          "execution_count": 136
        }
      ]
    },
    {
      "cell_type": "code",
      "metadata": {
        "id": "bPgSNh4j1JC3",
        "colab_type": "code",
        "colab": {
          "base_uri": "https://localhost:8080/",
          "height": 102
        },
        "outputId": "4a1fc4c2-39cd-498a-9420-831be18f366c"
      },
      "source": [
        "train.columns"
      ],
      "execution_count": 137,
      "outputs": [
        {
          "output_type": "execute_result",
          "data": {
            "text/plain": [
              "Index(['Unnamed: 0', 'city', 'city_type', 'median_age', 'avg_temp', 'swm',\n",
              "       'toilets_avl', 'water_purity', 'h_index', 'hospitals',\n",
              "       'foreign_visitors', 'Population Estimated for 2020 Till Aug',\n",
              "       'covid_cases'],\n",
              "      dtype='object')"
            ]
          },
          "metadata": {
            "tags": []
          },
          "execution_count": 137
        }
      ]
    },
    {
      "cell_type": "code",
      "metadata": {
        "id": "XbcOUqMxOLJp",
        "colab_type": "code",
        "colab": {
          "base_uri": "https://localhost:8080/",
          "height": 34
        },
        "outputId": "4f1295b6-6977-4ca6-a06d-19ede4c45232"
      },
      "source": [
        "test.columns\n",
        "test.shape\n"
      ],
      "execution_count": 138,
      "outputs": [
        {
          "output_type": "execute_result",
          "data": {
            "text/plain": [
              "(501, 12)"
            ]
          },
          "metadata": {
            "tags": []
          },
          "execution_count": 138
        }
      ]
    },
    {
      "cell_type": "code",
      "metadata": {
        "id": "VR6e6AQI1JJK",
        "colab_type": "code",
        "colab": {
          "base_uri": "https://localhost:8080/",
          "height": 68
        },
        "outputId": "05aacc00-ee14-420d-827c-7cb8c025b2c2"
      },
      "source": [
        "X_train = train[['city_type', 'median_age', 'avg_temp', 'swm',\n",
        "       'toilets_avl', 'water_purity', 'h_index', 'hospitals',\n",
        "       'foreign_visitors','Population Estimated for 2020 Till Aug']].values\n",
        "print(X_train[1])"
      ],
      "execution_count": 139,
      "outputs": [
        {
          "output_type": "stream",
          "text": [
            "[1.70000000e+01 2.70000000e+01 3.00000000e+01 1.00000000e+00\n",
            " 2.15000000e+02 1.96000000e+02 9.20018232e-01 1.48000000e+02\n",
            " 2.37916900e+06 1.20977620e+07]\n"
          ],
          "name": "stdout"
        }
      ]
    },
    {
      "cell_type": "code",
      "metadata": {
        "id": "QwA6CYcQ1JAO",
        "colab_type": "code",
        "colab": {
          "base_uri": "https://localhost:8080/",
          "height": 34
        },
        "outputId": "075d87dc-9d9f-459b-82b4-3acfb9faf55c"
      },
      "source": [
        "Y_train = train['covid_cases'].values\n",
        "print(Y_train[0])"
      ],
      "execution_count": 140,
      "outputs": [
        {
          "output_type": "stream",
          "text": [
            "163115\n"
          ],
          "name": "stdout"
        }
      ]
    },
    {
      "cell_type": "code",
      "metadata": {
        "id": "fzgnX8g2OT2-",
        "colab_type": "code",
        "colab": {
          "base_uri": "https://localhost:8080/",
          "height": 51
        },
        "outputId": "20e2d26e-f514-480d-a107-1c517238e3ae"
      },
      "source": [
        "X_test =  test[['city_type', 'median_age', 'avg_temp', 'swm',\n",
        "       'toilets_avl', 'water_purity', 'h_index', 'hospitals',\n",
        "       'foreign_visitors', 'population_till_aug']].values\n",
        "print(X_test[0])"
      ],
      "execution_count": 141,
      "outputs": [
        {
          "output_type": "stream",
          "text": [
            "[6.0000000e+00 2.3000000e+01 1.0000000e+01 1.0000000e+00 9.4000000e+01\n",
            " 1.1400000e+02 2.5339011e-01 1.7000000e+01 2.7690000e+03 4.8234316e+04]\n"
          ],
          "name": "stdout"
        }
      ]
    },
    {
      "cell_type": "code",
      "metadata": {
        "id": "XONAIq5l1I9g",
        "colab_type": "code",
        "colab": {
          "base_uri": "https://localhost:8080/",
          "height": 34
        },
        "outputId": "5cd973e7-9c6d-4e43-9632-8c67c4b35014"
      },
      "source": [
        "from sklearn.linear_model import LinearRegression\n",
        "reg = LinearRegression().fit(X_train, Y_train)\n",
        "reg.score(X_train, Y_train)\n",
        "\n"
      ],
      "execution_count": 142,
      "outputs": [
        {
          "output_type": "execute_result",
          "data": {
            "text/plain": [
              "0.519945288987552"
            ]
          },
          "metadata": {
            "tags": []
          },
          "execution_count": 142
        }
      ]
    },
    {
      "cell_type": "code",
      "metadata": {
        "id": "jAIitP2k3FP4",
        "colab_type": "code",
        "colab": {
          "base_uri": "https://localhost:8080/",
          "height": 282
        },
        "outputId": "c147c8d0-fe66-4b3f-8ee9-3e5cad3c4c60"
      },
      "source": [
        "Y_test_reg = reg.predict(X_test) \n",
        "sb.distplot(Y_test_reg)"
      ],
      "execution_count": 144,
      "outputs": [
        {
          "output_type": "execute_result",
          "data": {
            "text/plain": [
              "<matplotlib.axes._subplots.AxesSubplot at 0x7fe963cf1518>"
            ]
          },
          "metadata": {
            "tags": []
          },
          "execution_count": 144
        },
        {
          "output_type": "display_data",
          "data": {
            "image/png": "[encoded data removed]",
            "text/plain": [
              "<Figure size 432x288 with 1 Axes>"
            ]
          },
          "metadata": {
            "tags": [],
            "needs_background": "light"
          }
        }
      ]
    },
    {
      "cell_type": "code",
      "metadata": {
        "id": "4v3myyEu3FNa",
        "colab_type": "code",
        "colab": {
          "base_uri": "https://localhost:8080/",
          "height": 34
        },
        "outputId": "d6bb97d2-71dd-4145-aa79-f653341d46f7"
      },
      "source": [
        "from sklearn import tree\n",
        "dt = tree.DecisionTreeRegressor()\n",
        "dt = clf.fit(X_train, Y_train)\n",
        "dt.score(X_train, Y_train)"
      ],
      "execution_count": 147,
      "outputs": [
        {
          "output_type": "execute_result",
          "data": {
            "text/plain": [
              "0.9806953309100015"
            ]
          },
          "metadata": {
            "tags": []
          },
          "execution_count": 147
        }
      ]
    },
    {
      "cell_type": "code",
      "metadata": {
        "id": "jcEXBaNE3FKA",
        "colab_type": "code",
        "colab": {
          "base_uri": "https://localhost:8080/",
          "height": 282
        },
        "outputId": "f9ac3768-e712-478c-fba1-db0055ac8c83"
      },
      "source": [
        "Y_test_dt = dt.predict(X_test) \n",
        "sb.distplot(Y_test_dt)"
      ],
      "execution_count": 148,
      "outputs": [
        {
          "output_type": "execute_result",
          "data": {
            "text/plain": [
              "<matplotlib.axes._subplots.AxesSubplot at 0x7fe966b52c50>"
            ]
          },
          "metadata": {
            "tags": []
          },
          "execution_count": 148
        },
        {
          "output_type": "display_data",
          "data": {
            "image/png": "[encoded data removed]",
            "text/plain": [
              "<Figure size 432x288 with 1 Axes>"
            ]
          },
          "metadata": {
            "tags": [],
            "needs_background": "light"
          }
        }
      ]
    },
    {
      "cell_type": "code",
      "metadata": {
        "id": "eJf1tOL13FF_",
        "colab_type": "code",
        "colab": {
          "base_uri": "https://localhost:8080/",
          "height": 34
        },
        "outputId": "724440a6-ed35-42ee-f012-04e58f646b58"
      },
      "source": [
        "from sklearn.ensemble import AdaBoostRegressor\n",
        "from sklearn.datasets import make_regression\n",
        "\n",
        "abr = AdaBoostRegressor(random_state=0, n_estimators=200)\n",
        "abr.fit(X_train, Y_train)\n",
        "abr.score(X_train, Y_train)"
      ],
      "execution_count": 150,
      "outputs": [
        {
          "output_type": "execute_result",
          "data": {
            "text/plain": [
              "0.8144467700431308"
            ]
          },
          "metadata": {
            "tags": []
          },
          "execution_count": 150
        }
      ]
    },
    {
      "cell_type": "code",
      "metadata": {
        "id": "v4hKAIA844jL",
        "colab_type": "code",
        "colab": {
          "base_uri": "https://localhost:8080/",
          "height": 282
        },
        "outputId": "adfc98b4-7a93-4ff1-ef65-47501e2747db"
      },
      "source": [
        "Y_test_abr = abr.predict(X_test) \n",
        "sb.distplot(Y_test_abr)"
      ],
      "execution_count": 151,
      "outputs": [
        {
          "output_type": "execute_result",
          "data": {
            "text/plain": [
              "<matplotlib.axes._subplots.AxesSubplot at 0x7fe9637b4f60>"
            ]
          },
          "metadata": {
            "tags": []
          },
          "execution_count": 151
        },
        {
          "output_type": "display_data",
          "data": {
            "image/png": "[encoded data removed]",
            "text/plain": [
              "<Figure size 432x288 with 1 Axes>"
            ]
          },
          "metadata": {
            "tags": [],
            "needs_background": "light"
          }
        }
      ]
    },
    {
      "cell_type": "code",
      "metadata": {
        "id": "XNh5XVfx44x7",
        "colab_type": "code",
        "colab": {
          "base_uri": "https://localhost:8080/",
          "height": 34
        },
        "outputId": "6e079b07-3156-4df0-8bc6-9106f6d6248b"
      },
      "source": [
        "import numpy as np\n",
        "import matplotlib.pyplot as plt\n",
        "from sklearn import ensemble\n",
        "\n",
        "params = {'n_estimators': 500, 'max_depth': 4, 'min_samples_split': 2,\n",
        "          'learning_rate': 0.01, 'loss': 'ls'}\n",
        "clf = ensemble.GradientBoostingRegressor(**params)\n",
        "\n",
        "clf.fit(X_train, Y_train)\n",
        "\n",
        "clf.score(X_train, Y_train)"
      ],
      "execution_count": 152,
      "outputs": [
        {
          "output_type": "execute_result",
          "data": {
            "text/plain": [
              "0.9806953309100015"
            ]
          },
          "metadata": {
            "tags": []
          },
          "execution_count": 152
        }
      ]
    },
    {
      "cell_type": "code",
      "metadata": {
        "id": "0ZdbbfeO6G42",
        "colab_type": "code",
        "colab": {
          "base_uri": "https://localhost:8080/",
          "height": 282
        },
        "outputId": "59ade366-ae75-4240-fcf0-a40b0a300c13"
      },
      "source": [
        "Y_test_clf = clf.predict(X_test) \n",
        "sb.distplot(Y_test_clf)"
      ],
      "execution_count": 153,
      "outputs": [
        {
          "output_type": "execute_result",
          "data": {
            "text/plain": [
              "<matplotlib.axes._subplots.AxesSubplot at 0x7fe9636c3cf8>"
            ]
          },
          "metadata": {
            "tags": []
          },
          "execution_count": 153
        },
        {
          "output_type": "display_data",
          "data": {
            "image/png": "[encoded data removed]",
            "text/plain": [
              "<Figure size 432x288 with 1 Axes>"
            ]
          },
          "metadata": {
            "tags": [],
            "needs_background": "light"
          }
        }
      ]
    },
    {
      "cell_type": "code",
      "metadata": {
        "id": "CbHsLU4h6HHB",
        "colab_type": "code",
        "colab": {
          "base_uri": "https://localhost:8080/",
          "height": 34
        },
        "outputId": "e41372b5-93d6-4cfe-9130-5e27b5e5d909"
      },
      "source": [
        "from sklearn.neural_network import MLPRegressor\n",
        "\n",
        "mlpreg = MLPRegressor(    hidden_layer_sizes=(128,256, 1024,128,64,32,16,8),\n",
        "                       random_state=1,\n",
        "                       activation=\"relu\",\n",
        "                       max_iter=500)\n",
        "mlpreg.fit(X_train, Y_train)\n",
        "mlpreg.score(X_train, Y_train)"
      ],
      "execution_count": 154,
      "outputs": [
        {
          "output_type": "execute_result",
          "data": {
            "text/plain": [
              "0.659749042827804"
            ]
          },
          "metadata": {
            "tags": []
          },
          "execution_count": 154
        }
      ]
    },
    {
      "cell_type": "code",
      "metadata": {
        "id": "09nqkg5X6xgZ",
        "colab_type": "code",
        "colab": {
          "base_uri": "https://localhost:8080/",
          "height": 282
        },
        "outputId": "06632288-bfbf-476f-89c1-7b09337b59e0"
      },
      "source": [
        "Y_test_mlpreg = mlpreg.predict(X_test) \n",
        "sb.distplot(Y_test_mlpreg)"
      ],
      "execution_count": 156,
      "outputs": [
        {
          "output_type": "execute_result",
          "data": {
            "text/plain": [
              "<matplotlib.axes._subplots.AxesSubplot at 0x7fe9635db860>"
            ]
          },
          "metadata": {
            "tags": []
          },
          "execution_count": 156
        },
        {
          "output_type": "display_data",
          "data": {
            "image/png": "[encoded data removed]",
            "text/plain": [
              "<Figure size 432x288 with 1 Axes>"
            ]
          },
          "metadata": {
            "tags": [],
            "needs_background": "light"
          }
        }
      ]
    },
    {
      "cell_type": "code",
      "metadata": {
        "id": "JgQLLNIN6xup",
        "colab_type": "code",
        "colab": {
          "base_uri": "https://localhost:8080/",
          "height": 34
        },
        "outputId": "3e71cecf-62e9-4bf6-d900-a90d03cd4bec"
      },
      "source": [
        "from sklearn.ensemble import RandomForestRegressor\n",
        "rfr = RandomForestRegressor(max_depth=100, random_state=0)\n",
        "rfr.fit(X_train, Y_train)\n",
        "rfr.score(X_train, Y_train)"
      ],
      "execution_count": 157,
      "outputs": [
        {
          "output_type": "execute_result",
          "data": {
            "text/plain": [
              "0.9512339700467658"
            ]
          },
          "metadata": {
            "tags": []
          },
          "execution_count": 157
        }
      ]
    },
    {
      "cell_type": "code",
      "metadata": {
        "id": "AHZQvsfSa08V",
        "colab_type": "code",
        "colab": {
          "base_uri": "https://localhost:8080/",
          "height": 282
        },
        "outputId": "f6462070-1872-4c7c-80f5-d9f584479d8c"
      },
      "source": [
        "Y_test_rfr = rfr.predict(X_test) \n",
        "sb.distplot(Y_test_rfr)"
      ],
      "execution_count": 158,
      "outputs": [
        {
          "output_type": "execute_result",
          "data": {
            "text/plain": [
              "<matplotlib.axes._subplots.AxesSubplot at 0x7fe9634f9d30>"
            ]
          },
          "metadata": {
            "tags": []
          },
          "execution_count": 158
        },
        {
          "output_type": "display_data",
          "data": {
            "image/png": "[encoded data removed]",
            "text/plain": [
              "<Figure size 432x288 with 1 Axes>"
            ]
          },
          "metadata": {
            "tags": [],
            "needs_background": "light"
          }
        }
      ]
    }
  ]
}