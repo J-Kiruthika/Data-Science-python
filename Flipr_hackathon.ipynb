{
  "nbformat": 4,
  "nbformat_minor": 0,
  "metadata": {
    "colab": {
      "name": "Flipr",
      "provenance": [],
      "collapsed_sections": [],
      "include_colab_link": true
    },
    "kernelspec": {
      "name": "python3",
      "display_name": "Python 3"
    }
  },
  "cells": [
    {
      "cell_type": "markdown",
      "metadata": {
        "id": "view-in-github",
        "colab_type": "text"
      },
      "source": [
        "<a href=\"https://colab.research.google.com/github/J-Kiruthika/Python-for-DataScience/blob/master/Flipr_hackathon.ipynb\" target=\"_parent\"><img src=\"https://colab.research.google.com/assets/colab-badge.svg\" alt=\"Open In Colab\"/></a>"
      ]
    },
    {
      "cell_type": "markdown",
      "metadata": {
        "id": "_uOZbJDtlpgh",
        "colab_type": "text"
      },
      "source": [
        "# **Flipr Hackathon 6.0 - Machine Learning** ###\n",
        "\n",
        "---\n",
        "\n",
        "### **Prediction Analsysis**"
      ]
    },
    {
      "cell_type": "markdown",
      "metadata": {
        "id": "pvEnfaXEmvFc",
        "colab_type": "text"
      },
      "source": [
        "*Importing all necessary libraries*"
      ]
    },
    {
      "cell_type": "code",
      "metadata": {
        "id": "51jAkLxh1IZI",
        "colab_type": "code",
        "colab": {}
      },
      "source": [
        "import pandas as pd\n",
        "import seaborn as sb\n",
        "import matplotlib.pyplot as plt\n",
        "import numpy as np"
      ],
      "execution_count": 202,
      "outputs": []
    },
    {
      "cell_type": "markdown",
      "metadata": {
        "id": "xSEuyKqRm-Md",
        "colab_type": "text"
      },
      "source": [
        "**Train and test data description**"
      ]
    },
    {
      "cell_type": "markdown",
      "metadata": {
        "id": "mArWngGdoHyK",
        "colab_type": "text"
      },
      "source": [
        "*Reading the train data* "
      ]
    },
    {
      "cell_type": "code",
      "metadata": {
        "id": "dnZnnOsRm5XN",
        "colab_type": "code",
        "colab": {
          "base_uri": "https://localhost:8080/",
          "height": 275
        },
        "outputId": "d55002b8-9afd-4e8a-da3b-05ac05af3aa5"
      },
      "source": [
        "train = pd.read_excel('/content/train-processed.xlsx')\n",
        "train.head()\n"
      ],
      "execution_count": 203,
      "outputs": [
        {
          "output_type": "execute_result",
          "data": {
            "text/html": [
              "<div>\n",
              "<style scoped>\n",
              "    .dataframe tbody tr th:only-of-type {\n",
              "        vertical-align: middle;\n",
              "    }\n",
              "\n",
              "    .dataframe tbody tr th {\n",
              "        vertical-align: top;\n",
              "    }\n",
              "\n",
              "    .dataframe thead th {\n",
              "        text-align: right;\n",
              "    }\n",
              "</style>\n",
              "<table border=\"1\" class=\"dataframe\">\n",
              "  <thead>\n",
              "    <tr style=\"text-align: right;\">\n",
              "      <th></th>\n",
              "      <th>Unnamed: 0</th>\n",
              "      <th>city</th>\n",
              "      <th>city_type</th>\n",
              "      <th>median_age</th>\n",
              "      <th>avg_temp</th>\n",
              "      <th>swm</th>\n",
              "      <th>toilets_avl</th>\n",
              "      <th>water_purity</th>\n",
              "      <th>h_index</th>\n",
              "      <th>hospitals</th>\n",
              "      <th>foreign_visitors</th>\n",
              "      <th>Population Estimated for 2020 Till Aug</th>\n",
              "      <th>covid_cases</th>\n",
              "    </tr>\n",
              "  </thead>\n",
              "  <tbody>\n",
              "    <tr>\n",
              "      <th>0</th>\n",
              "      <td>0</td>\n",
              "      <td>mumbai</td>\n",
              "      <td>17</td>\n",
              "      <td>23</td>\n",
              "      <td>32</td>\n",
              "      <td>1</td>\n",
              "      <td>219</td>\n",
              "      <td>150</td>\n",
              "      <td>0.700440</td>\n",
              "      <td>159</td>\n",
              "      <td>4408916</td>\n",
              "      <td>12860011</td>\n",
              "      <td>163115</td>\n",
              "    </tr>\n",
              "    <tr>\n",
              "      <th>1</th>\n",
              "      <td>1</td>\n",
              "      <td>delhi</td>\n",
              "      <td>17</td>\n",
              "      <td>27</td>\n",
              "      <td>30</td>\n",
              "      <td>1</td>\n",
              "      <td>215</td>\n",
              "      <td>196</td>\n",
              "      <td>0.920018</td>\n",
              "      <td>148</td>\n",
              "      <td>2379169</td>\n",
              "      <td>12097762</td>\n",
              "      <td>80188</td>\n",
              "    </tr>\n",
              "    <tr>\n",
              "      <th>2</th>\n",
              "      <td>2</td>\n",
              "      <td>bangalore</td>\n",
              "      <td>20</td>\n",
              "      <td>28</td>\n",
              "      <td>37</td>\n",
              "      <td>0</td>\n",
              "      <td>212</td>\n",
              "      <td>102</td>\n",
              "      <td>0.097085</td>\n",
              "      <td>123</td>\n",
              "      <td>636502</td>\n",
              "      <td>15466316</td>\n",
              "      <td>141000</td>\n",
              "    </tr>\n",
              "    <tr>\n",
              "      <th>3</th>\n",
              "      <td>3</td>\n",
              "      <td>hyderabad</td>\n",
              "      <td>20</td>\n",
              "      <td>23</td>\n",
              "      <td>31</td>\n",
              "      <td>1</td>\n",
              "      <td>217</td>\n",
              "      <td>118</td>\n",
              "      <td>0.827744</td>\n",
              "      <td>110</td>\n",
              "      <td>126078</td>\n",
              "      <td>11957467</td>\n",
              "      <td>55123</td>\n",
              "    </tr>\n",
              "    <tr>\n",
              "      <th>4</th>\n",
              "      <td>4</td>\n",
              "      <td>ahmedabad</td>\n",
              "      <td>20</td>\n",
              "      <td>29</td>\n",
              "      <td>25</td>\n",
              "      <td>2</td>\n",
              "      <td>227</td>\n",
              "      <td>109</td>\n",
              "      <td>0.847941</td>\n",
              "      <td>73</td>\n",
              "      <td>284973</td>\n",
              "      <td>8382870</td>\n",
              "      <td>33204</td>\n",
              "    </tr>\n",
              "  </tbody>\n",
              "</table>\n",
              "</div>"
            ],
            "text/plain": [
              "   Unnamed: 0       city  ...  Population Estimated for 2020 Till Aug  covid_cases\n",
              "0           0     mumbai  ...                                12860011       163115\n",
              "1           1      delhi  ...                                12097762        80188\n",
              "2           2  bangalore  ...                                15466316       141000\n",
              "3           3  hyderabad  ...                                11957467        55123\n",
              "4           4  ahmedabad  ...                                 8382870        33204\n",
              "\n",
              "[5 rows x 13 columns]"
            ]
          },
          "metadata": {
            "tags": []
          },
          "execution_count": 203
        }
      ]
    },
    {
      "cell_type": "markdown",
      "metadata": {
        "id": "7NvT6Qg_q39B",
        "colab_type": "text"
      },
      "source": [
        "*Reading the test data*"
      ]
    },
    {
      "cell_type": "code",
      "metadata": {
        "id": "2o4n_re9M6QM",
        "colab_type": "code",
        "colab": {
          "base_uri": "https://localhost:8080/",
          "height": 241
        },
        "outputId": "68749218-957f-49cb-fc2f-01632eab6670"
      },
      "source": [
        "test = pd.read_csv('/content/TestDataFinal (1).csv')\n",
        "test.head()"
      ],
      "execution_count": 236,
      "outputs": [
        {
          "output_type": "execute_result",
          "data": {
            "text/html": [
              "<div>\n",
              "<style scoped>\n",
              "    .dataframe tbody tr th:only-of-type {\n",
              "        vertical-align: middle;\n",
              "    }\n",
              "\n",
              "    .dataframe tbody tr th {\n",
              "        vertical-align: top;\n",
              "    }\n",
              "\n",
              "    .dataframe thead th {\n",
              "        text-align: right;\n",
              "    }\n",
              "</style>\n",
              "<table border=\"1\" class=\"dataframe\">\n",
              "  <thead>\n",
              "    <tr style=\"text-align: right;\">\n",
              "      <th></th>\n",
              "      <th>Unnamed: 0</th>\n",
              "      <th>city</th>\n",
              "      <th>city_type</th>\n",
              "      <th>median_age</th>\n",
              "      <th>avg_temp</th>\n",
              "      <th>swm</th>\n",
              "      <th>toilets_avl</th>\n",
              "      <th>water_purity</th>\n",
              "      <th>h_index</th>\n",
              "      <th>hospitals</th>\n",
              "      <th>foreign_visitors</th>\n",
              "      <th>population_till_aug</th>\n",
              "    </tr>\n",
              "  </thead>\n",
              "  <tbody>\n",
              "    <tr>\n",
              "      <th>0</th>\n",
              "      <td>0</td>\n",
              "      <td>tuensang</td>\n",
              "      <td>6</td>\n",
              "      <td>23.0</td>\n",
              "      <td>10.0</td>\n",
              "      <td>MEDIUM</td>\n",
              "      <td>94.0</td>\n",
              "      <td>114.0</td>\n",
              "      <td>0.253390</td>\n",
              "      <td>17.0</td>\n",
              "      <td>2769.0</td>\n",
              "      <td>48234.315986</td>\n",
              "    </tr>\n",
              "    <tr>\n",
              "      <th>1</th>\n",
              "      <td>1</td>\n",
              "      <td>lakshmeshwar</td>\n",
              "      <td>14</td>\n",
              "      <td>25.0</td>\n",
              "      <td>38.0</td>\n",
              "      <td>HIGH</td>\n",
              "      <td>62.0</td>\n",
              "      <td>160.0</td>\n",
              "      <td>0.192555</td>\n",
              "      <td>13.0</td>\n",
              "      <td>636502.0</td>\n",
              "      <td>48187.482655</td>\n",
              "    </tr>\n",
              "    <tr>\n",
              "      <th>2</th>\n",
              "      <td>2</td>\n",
              "      <td>zira</td>\n",
              "      <td>18</td>\n",
              "      <td>29.0</td>\n",
              "      <td>35.0</td>\n",
              "      <td>HIGH</td>\n",
              "      <td>63.0</td>\n",
              "      <td>105.0</td>\n",
              "      <td>0.887882</td>\n",
              "      <td>17.0</td>\n",
              "      <td>242367.0</td>\n",
              "      <td>42789.621241</td>\n",
              "    </tr>\n",
              "    <tr>\n",
              "      <th>3</th>\n",
              "      <td>3</td>\n",
              "      <td>yawal</td>\n",
              "      <td>18</td>\n",
              "      <td>26.0</td>\n",
              "      <td>31.0</td>\n",
              "      <td>HIGH</td>\n",
              "      <td>60.0</td>\n",
              "      <td>174.0</td>\n",
              "      <td>0.407838</td>\n",
              "      <td>11.0</td>\n",
              "      <td>4408916.0</td>\n",
              "      <td>42759.333477</td>\n",
              "    </tr>\n",
              "    <tr>\n",
              "      <th>4</th>\n",
              "      <td>4</td>\n",
              "      <td>thanabhawan</td>\n",
              "      <td>1</td>\n",
              "      <td>28.0</td>\n",
              "      <td>39.0</td>\n",
              "      <td>LOW</td>\n",
              "      <td>92.0</td>\n",
              "      <td>153.0</td>\n",
              "      <td>0.324456</td>\n",
              "      <td>23.0</td>\n",
              "      <td>3104060.0</td>\n",
              "      <td>48089.854380</td>\n",
              "    </tr>\n",
              "  </tbody>\n",
              "</table>\n",
              "</div>"
            ],
            "text/plain": [
              "   Unnamed: 0          city  ...  foreign_visitors  population_till_aug\n",
              "0           0      tuensang  ...            2769.0         48234.315986\n",
              "1           1  lakshmeshwar  ...          636502.0         48187.482655\n",
              "2           2          zira  ...          242367.0         42789.621241\n",
              "3           3         yawal  ...         4408916.0         42759.333477\n",
              "4           4   thanabhawan  ...         3104060.0         48089.854380\n",
              "\n",
              "[5 rows x 12 columns]"
            ]
          },
          "metadata": {
            "tags": []
          },
          "execution_count": 236
        }
      ]
    },
    {
      "cell_type": "markdown",
      "metadata": {
        "id": "ltbDS_qxnoMU",
        "colab_type": "text"
      },
      "source": [
        "*Normalising the predicted 2020 population attribute*"
      ]
    },
    {
      "cell_type": "code",
      "metadata": {
        "id": "8mX36mjUUwSf",
        "colab_type": "code",
        "colab": {
          "base_uri": "https://localhost:8080/",
          "height": 221
        },
        "outputId": "1fe8465f-4f9e-467b-c761-5a61296007ba"
      },
      "source": [
        "train['Population Estimated for 2020 Till Aug'].round(2)\n",
        "test['population_till_aug'].round(2)"
      ],
      "execution_count": 205,
      "outputs": [
        {
          "output_type": "execute_result",
          "data": {
            "text/plain": [
              "0      48234.32\n",
              "1      48187.48\n",
              "2      42789.62\n",
              "3      42759.33\n",
              "4      48089.85\n",
              "         ...   \n",
              "496     2152.10\n",
              "497     1989.48\n",
              "498      802.61\n",
              "499      144.26\n",
              "500    32459.81\n",
              "Name: population_till_aug, Length: 501, dtype: float64"
            ]
          },
          "metadata": {
            "tags": []
          },
          "execution_count": 205
        }
      ]
    },
    {
      "cell_type": "markdown",
      "metadata": {
        "id": "sM7np11Vnwvv",
        "colab_type": "text"
      },
      "source": [
        "*Converting categorical values of SWM to numerical in test data*"
      ]
    },
    {
      "cell_type": "code",
      "metadata": {
        "id": "myljdOo4YhM1",
        "colab_type": "code",
        "colab": {
          "base_uri": "https://localhost:8080/",
          "height": 241
        },
        "outputId": "f13d9b70-d565-49f3-d6b8-17082a84da7b"
      },
      "source": [
        "test.columns\n",
        "test.head()\n",
        "swm_categories = {\"HIGH\":0 ,\"MEDIUM\":1 ,\"LOW\":2}\n",
        "test['swm'] = test['swm'].map(swm_categories)\n",
        "test.head()"
      ],
      "execution_count": 206,
      "outputs": [
        {
          "output_type": "execute_result",
          "data": {
            "text/html": [
              "<div>\n",
              "<style scoped>\n",
              "    .dataframe tbody tr th:only-of-type {\n",
              "        vertical-align: middle;\n",
              "    }\n",
              "\n",
              "    .dataframe tbody tr th {\n",
              "        vertical-align: top;\n",
              "    }\n",
              "\n",
              "    .dataframe thead th {\n",
              "        text-align: right;\n",
              "    }\n",
              "</style>\n",
              "<table border=\"1\" class=\"dataframe\">\n",
              "  <thead>\n",
              "    <tr style=\"text-align: right;\">\n",
              "      <th></th>\n",
              "      <th>Unnamed: 0</th>\n",
              "      <th>city</th>\n",
              "      <th>city_type</th>\n",
              "      <th>median_age</th>\n",
              "      <th>avg_temp</th>\n",
              "      <th>swm</th>\n",
              "      <th>toilets_avl</th>\n",
              "      <th>water_purity</th>\n",
              "      <th>h_index</th>\n",
              "      <th>hospitals</th>\n",
              "      <th>foreign_visitors</th>\n",
              "      <th>population_till_aug</th>\n",
              "    </tr>\n",
              "  </thead>\n",
              "  <tbody>\n",
              "    <tr>\n",
              "      <th>0</th>\n",
              "      <td>0</td>\n",
              "      <td>tuensang</td>\n",
              "      <td>6</td>\n",
              "      <td>23.0</td>\n",
              "      <td>10.0</td>\n",
              "      <td>1</td>\n",
              "      <td>94.0</td>\n",
              "      <td>114.0</td>\n",
              "      <td>0.253390</td>\n",
              "      <td>17.0</td>\n",
              "      <td>2769.0</td>\n",
              "      <td>48234.315986</td>\n",
              "    </tr>\n",
              "    <tr>\n",
              "      <th>1</th>\n",
              "      <td>1</td>\n",
              "      <td>lakshmeshwar</td>\n",
              "      <td>14</td>\n",
              "      <td>25.0</td>\n",
              "      <td>38.0</td>\n",
              "      <td>0</td>\n",
              "      <td>62.0</td>\n",
              "      <td>160.0</td>\n",
              "      <td>0.192555</td>\n",
              "      <td>13.0</td>\n",
              "      <td>636502.0</td>\n",
              "      <td>48187.482655</td>\n",
              "    </tr>\n",
              "    <tr>\n",
              "      <th>2</th>\n",
              "      <td>2</td>\n",
              "      <td>zira</td>\n",
              "      <td>18</td>\n",
              "      <td>29.0</td>\n",
              "      <td>35.0</td>\n",
              "      <td>0</td>\n",
              "      <td>63.0</td>\n",
              "      <td>105.0</td>\n",
              "      <td>0.887882</td>\n",
              "      <td>17.0</td>\n",
              "      <td>242367.0</td>\n",
              "      <td>42789.621241</td>\n",
              "    </tr>\n",
              "    <tr>\n",
              "      <th>3</th>\n",
              "      <td>3</td>\n",
              "      <td>yawal</td>\n",
              "      <td>18</td>\n",
              "      <td>26.0</td>\n",
              "      <td>31.0</td>\n",
              "      <td>0</td>\n",
              "      <td>60.0</td>\n",
              "      <td>174.0</td>\n",
              "      <td>0.407838</td>\n",
              "      <td>11.0</td>\n",
              "      <td>4408916.0</td>\n",
              "      <td>42759.333477</td>\n",
              "    </tr>\n",
              "    <tr>\n",
              "      <th>4</th>\n",
              "      <td>4</td>\n",
              "      <td>thanabhawan</td>\n",
              "      <td>1</td>\n",
              "      <td>28.0</td>\n",
              "      <td>39.0</td>\n",
              "      <td>2</td>\n",
              "      <td>92.0</td>\n",
              "      <td>153.0</td>\n",
              "      <td>0.324456</td>\n",
              "      <td>23.0</td>\n",
              "      <td>3104060.0</td>\n",
              "      <td>48089.854380</td>\n",
              "    </tr>\n",
              "  </tbody>\n",
              "</table>\n",
              "</div>"
            ],
            "text/plain": [
              "   Unnamed: 0          city  ...  foreign_visitors  population_till_aug\n",
              "0           0      tuensang  ...            2769.0         48234.315986\n",
              "1           1  lakshmeshwar  ...          636502.0         48187.482655\n",
              "2           2          zira  ...          242367.0         42789.621241\n",
              "3           3         yawal  ...         4408916.0         42759.333477\n",
              "4           4   thanabhawan  ...         3104060.0         48089.854380\n",
              "\n",
              "[5 rows x 12 columns]"
            ]
          },
          "metadata": {
            "tags": []
          },
          "execution_count": 206
        }
      ]
    },
    {
      "cell_type": "markdown",
      "metadata": {
        "id": "YnnobFCLn-bs",
        "colab_type": "text"
      },
      "source": [
        "*Listing the train columns*"
      ]
    },
    {
      "cell_type": "code",
      "metadata": {
        "id": "bPgSNh4j1JC3",
        "colab_type": "code",
        "colab": {
          "base_uri": "https://localhost:8080/",
          "height": 102
        },
        "outputId": "cc76bc4c-f740-4224-920a-4f3d4c832e4b"
      },
      "source": [
        "train.columns"
      ],
      "execution_count": 207,
      "outputs": [
        {
          "output_type": "execute_result",
          "data": {
            "text/plain": [
              "Index(['Unnamed: 0', 'city', 'city_type', 'median_age', 'avg_temp', 'swm',\n",
              "       'toilets_avl', 'water_purity', 'h_index', 'hospitals',\n",
              "       'foreign_visitors', 'Population Estimated for 2020 Till Aug',\n",
              "       'covid_cases'],\n",
              "      dtype='object')"
            ]
          },
          "metadata": {
            "tags": []
          },
          "execution_count": 207
        }
      ]
    },
    {
      "cell_type": "markdown",
      "metadata": {
        "id": "cg1g8p9ppD-z",
        "colab_type": "text"
      },
      "source": [
        "**Splitting data as features and class label**"
      ]
    },
    {
      "cell_type": "markdown",
      "metadata": {
        "id": "QCKEFXaqpWhe",
        "colab_type": "text"
      },
      "source": [
        "*X_train is Input attributes of training dataset*"
      ]
    },
    {
      "cell_type": "code",
      "metadata": {
        "id": "VR6e6AQI1JJK",
        "colab_type": "code",
        "colab": {
          "base_uri": "https://localhost:8080/",
          "height": 68
        },
        "outputId": "7f0dc371-53c9-45dc-93cc-b4c0fc77b132"
      },
      "source": [
        "X_train = train[['city_type', 'median_age', 'avg_temp', 'swm',\n",
        "       'toilets_avl', 'water_purity', 'h_index', 'hospitals',\n",
        "       'foreign_visitors','Population Estimated for 2020 Till Aug']].values\n",
        "print(X_train[1])"
      ],
      "execution_count": 209,
      "outputs": [
        {
          "output_type": "stream",
          "text": [
            "[1.70000000e+01 2.70000000e+01 3.00000000e+01 1.00000000e+00\n",
            " 2.15000000e+02 1.96000000e+02 9.20018232e-01 1.48000000e+02\n",
            " 2.37916900e+06 1.20977620e+07]\n"
          ],
          "name": "stdout"
        }
      ]
    },
    {
      "cell_type": "markdown",
      "metadata": {
        "id": "XwxDwX76pkcP",
        "colab_type": "text"
      },
      "source": [
        "*Y_train is Output class label of training dataset*"
      ]
    },
    {
      "cell_type": "code",
      "metadata": {
        "id": "QwA6CYcQ1JAO",
        "colab_type": "code",
        "colab": {
          "base_uri": "https://localhost:8080/",
          "height": 34
        },
        "outputId": "78751b2b-35b2-4eae-9688-28d89fd47156"
      },
      "source": [
        "Y_train = train['covid_cases'].values\n",
        "print(Y_train[0])"
      ],
      "execution_count": 210,
      "outputs": [
        {
          "output_type": "stream",
          "text": [
            "163115\n"
          ],
          "name": "stdout"
        }
      ]
    },
    {
      "cell_type": "markdown",
      "metadata": {
        "id": "8Lh5tvq3pyJ2",
        "colab_type": "text"
      },
      "source": [
        "*X_test is Input attributes of testing dataset*"
      ]
    },
    {
      "cell_type": "code",
      "metadata": {
        "id": "fzgnX8g2OT2-",
        "colab_type": "code",
        "colab": {
          "base_uri": "https://localhost:8080/",
          "height": 51
        },
        "outputId": "b09886ed-2888-4604-816e-edd260c9bac6"
      },
      "source": [
        "X_test =  test[['city_type', 'median_age', 'avg_temp', 'swm',\n",
        "       'toilets_avl', 'water_purity', 'h_index', 'hospitals',\n",
        "       'foreign_visitors', 'population_till_aug']].values\n",
        "print(X_test[0])"
      ],
      "execution_count": 211,
      "outputs": [
        {
          "output_type": "stream",
          "text": [
            "[6.0000000e+00 2.3000000e+01 1.0000000e+01 1.0000000e+00 9.4000000e+01\n",
            " 1.1400000e+02 2.5339011e-01 1.7000000e+01 2.7690000e+03 4.8234316e+04]\n"
          ],
          "name": "stdout"
        }
      ]
    },
    {
      "cell_type": "markdown",
      "metadata": {
        "id": "pfGMByLfqOOk",
        "colab_type": "text"
      },
      "source": [
        "**Predicitve Modeling**"
      ]
    },
    {
      "cell_type": "markdown",
      "metadata": {
        "id": "2osX9eblrdbk",
        "colab_type": "text"
      },
      "source": [
        "*Linear Regression Model*"
      ]
    },
    {
      "cell_type": "code",
      "metadata": {
        "id": "XONAIq5l1I9g",
        "colab_type": "code",
        "colab": {
          "base_uri": "https://localhost:8080/",
          "height": 34
        },
        "outputId": "47203805-d2b8-4e36-d225-b743cd0dae1e"
      },
      "source": [
        "from sklearn.linear_model import LinearRegression\n",
        "reg = LinearRegression().fit(X_train, Y_train)\n",
        "reg.score(X_train, Y_train)\n",
        "\n"
      ],
      "execution_count": 212,
      "outputs": [
        {
          "output_type": "execute_result",
          "data": {
            "text/plain": [
              "0.519945288987552"
            ]
          },
          "metadata": {
            "tags": []
          },
          "execution_count": 212
        }
      ]
    },
    {
      "cell_type": "code",
      "metadata": {
        "id": "jAIitP2k3FP4",
        "colab_type": "code",
        "colab": {
          "base_uri": "https://localhost:8080/",
          "height": 282
        },
        "outputId": "966f584c-7d11-41d7-abf3-b94576907b65"
      },
      "source": [
        "Y_test_reg = reg.predict(X_test) \n",
        "sb.distplot(Y_test_reg)\n"
      ],
      "execution_count": 213,
      "outputs": [
        {
          "output_type": "execute_result",
          "data": {
            "text/plain": [
              "<matplotlib.axes._subplots.AxesSubplot at 0x7fe96332c320>"
            ]
          },
          "metadata": {
            "tags": []
          },
          "execution_count": 213
        },
        {
          "output_type": "display_data",
          "data": {
            "image/png": "[encoded data removed]",
            "text/plain": [
              "<Figure size 432x288 with 1 Axes>"
            ]
          },
          "metadata": {
            "tags": [],
            "needs_background": "light"
          }
        }
      ]
    },
    {
      "cell_type": "markdown",
      "metadata": {
        "id": "RccZ6DOYroRQ",
        "colab_type": "text"
      },
      "source": [
        "*Decision Tree*"
      ]
    },
    {
      "cell_type": "code",
      "metadata": {
        "id": "4v3myyEu3FNa",
        "colab_type": "code",
        "colab": {
          "base_uri": "https://localhost:8080/",
          "height": 34
        },
        "outputId": "9c8547bf-36f7-4aa0-cf34-13390ffc60da"
      },
      "source": [
        "from sklearn import tree\n",
        "dt = tree.DecisionTreeRegressor()\n",
        "dt = clf.fit(X_train, Y_train)\n",
        "dt.score(X_train, Y_train)"
      ],
      "execution_count": 216,
      "outputs": [
        {
          "output_type": "execute_result",
          "data": {
            "text/plain": [
              "0.9806953309100015"
            ]
          },
          "metadata": {
            "tags": []
          },
          "execution_count": 216
        }
      ]
    },
    {
      "cell_type": "code",
      "metadata": {
        "id": "jcEXBaNE3FKA",
        "colab_type": "code",
        "colab": {
          "base_uri": "https://localhost:8080/",
          "height": 282
        },
        "outputId": "d5a6781f-6fe1-48f4-d59c-945f6fe6d56e"
      },
      "source": [
        "Y_test_dt = dt.predict(X_test) \n",
        "sb.distplot(Y_test_dt)"
      ],
      "execution_count": 217,
      "outputs": [
        {
          "output_type": "execute_result",
          "data": {
            "text/plain": [
              "<matplotlib.axes._subplots.AxesSubplot at 0x7fe9693b4898>"
            ]
          },
          "metadata": {
            "tags": []
          },
          "execution_count": 217
        },
        {
          "output_type": "display_data",
          "data": {
            "image/png": "[encoded data removed]",
            "text/plain": [
              "<Figure size 432x288 with 1 Axes>"
            ]
          },
          "metadata": {
            "tags": [],
            "needs_background": "light"
          }
        }
      ]
    },
    {
      "cell_type": "markdown",
      "metadata": {
        "id": "lK1iRjV8rufu",
        "colab_type": "text"
      },
      "source": [
        "*AdaBoost Regressor*"
      ]
    },
    {
      "cell_type": "code",
      "metadata": {
        "id": "eJf1tOL13FF_",
        "colab_type": "code",
        "colab": {
          "base_uri": "https://localhost:8080/",
          "height": 34
        },
        "outputId": "a7129a35-fd85-4a94-e25b-5b354c682b5e"
      },
      "source": [
        "from sklearn.ensemble import AdaBoostRegressor\n",
        "from sklearn.datasets import make_regression\n",
        "\n",
        "abr = AdaBoostRegressor(random_state=0, n_estimators=200)\n",
        "abr.fit(X_train, Y_train)\n",
        "abr.score(X_train, Y_train)"
      ],
      "execution_count": 219,
      "outputs": [
        {
          "output_type": "execute_result",
          "data": {
            "text/plain": [
              "0.8144467700431308"
            ]
          },
          "metadata": {
            "tags": []
          },
          "execution_count": 219
        }
      ]
    },
    {
      "cell_type": "code",
      "metadata": {
        "id": "v4hKAIA844jL",
        "colab_type": "code",
        "colab": {
          "base_uri": "https://localhost:8080/",
          "height": 282
        },
        "outputId": "98a1e71c-1aa0-4ebd-d014-4b8a17ed43ce"
      },
      "source": [
        "Y_test_abr = abr.predict(X_test) \n",
        "sb.distplot(Y_test_abr)"
      ],
      "execution_count": 220,
      "outputs": [
        {
          "output_type": "execute_result",
          "data": {
            "text/plain": [
              "<matplotlib.axes._subplots.AxesSubplot at 0x7fe96295f668>"
            ]
          },
          "metadata": {
            "tags": []
          },
          "execution_count": 220
        },
        {
          "output_type": "display_data",
          "data": {
            "image/png": "[encoded data removed]",
            "text/plain": [
              "<Figure size 432x288 with 1 Axes>"
            ]
          },
          "metadata": {
            "tags": [],
            "needs_background": "light"
          }
        }
      ]
    },
    {
      "cell_type": "markdown",
      "metadata": {
        "id": "XZ-1F6vor0i5",
        "colab_type": "text"
      },
      "source": [
        "*Gradient Boosting Model*"
      ]
    },
    {
      "cell_type": "code",
      "metadata": {
        "id": "XNh5XVfx44x7",
        "colab_type": "code",
        "colab": {
          "base_uri": "https://localhost:8080/",
          "height": 34
        },
        "outputId": "bd5530af-01ac-406d-a71a-f2aae8299779"
      },
      "source": [
        "import numpy as np\n",
        "import matplotlib.pyplot as plt\n",
        "from sklearn import ensemble\n",
        "\n",
        "params = {'n_estimators': 500, 'max_depth': 4, 'min_samples_split': 2,\n",
        "          'learning_rate': 0.01, 'loss': 'ls'}\n",
        "clf = ensemble.GradientBoostingRegressor(**params)\n",
        "\n",
        "clf.fit(X_train, Y_train)\n",
        "\n",
        "clf.score(X_train, Y_train)"
      ],
      "execution_count": 222,
      "outputs": [
        {
          "output_type": "execute_result",
          "data": {
            "text/plain": [
              "0.9806953309100015"
            ]
          },
          "metadata": {
            "tags": []
          },
          "execution_count": 222
        }
      ]
    },
    {
      "cell_type": "code",
      "metadata": {
        "id": "0ZdbbfeO6G42",
        "colab_type": "code",
        "colab": {
          "base_uri": "https://localhost:8080/",
          "height": 282
        },
        "outputId": "2c3b97dd-6895-46b5-e784-3f0aa0ea01ec"
      },
      "source": [
        "Y_test_clf = clf.predict(X_test) \n",
        "sb.distplot(Y_test_clf)"
      ],
      "execution_count": 223,
      "outputs": [
        {
          "output_type": "execute_result",
          "data": {
            "text/plain": [
              "<matplotlib.axes._subplots.AxesSubplot at 0x7fe962876a58>"
            ]
          },
          "metadata": {
            "tags": []
          },
          "execution_count": 223
        },
        {
          "output_type": "display_data",
          "data": {
            "image/png": "[encoded data removed]",
            "text/plain": [
              "<Figure size 432x288 with 1 Axes>"
            ]
          },
          "metadata": {
            "tags": [],
            "needs_background": "light"
          }
        }
      ]
    },
    {
      "cell_type": "markdown",
      "metadata": {
        "id": "BscEMvuar8Nu",
        "colab_type": "text"
      },
      "source": [
        "*MLP Regressor*"
      ]
    },
    {
      "cell_type": "code",
      "metadata": {
        "id": "CbHsLU4h6HHB",
        "colab_type": "code",
        "colab": {
          "base_uri": "https://localhost:8080/",
          "height": 34
        },
        "outputId": "6a90d6f4-cdd1-4f8c-9460-c3d90ad0310a"
      },
      "source": [
        "from sklearn.neural_network import MLPRegressor\n",
        "\n",
        "mlpreg = MLPRegressor(    hidden_layer_sizes=(128,256, 1024,128,64,32,16,8),\n",
        "                       random_state=1,\n",
        "                       activation=\"relu\",\n",
        "                       max_iter=500)\n",
        "mlpreg.fit(X_train, Y_train)\n",
        "mlpreg.score(X_train, Y_train)"
      ],
      "execution_count": 225,
      "outputs": [
        {
          "output_type": "execute_result",
          "data": {
            "text/plain": [
              "0.659749042827804"
            ]
          },
          "metadata": {
            "tags": []
          },
          "execution_count": 225
        }
      ]
    },
    {
      "cell_type": "code",
      "metadata": {
        "id": "09nqkg5X6xgZ",
        "colab_type": "code",
        "colab": {
          "base_uri": "https://localhost:8080/",
          "height": 282
        },
        "outputId": "8a547129-e9f0-4ef4-e3ad-9cdc71e36e39"
      },
      "source": [
        "Y_test_mlpreg = mlpreg.predict(X_test) \n",
        "sb.distplot(Y_test_mlpreg)"
      ],
      "execution_count": 226,
      "outputs": [
        {
          "output_type": "execute_result",
          "data": {
            "text/plain": [
              "<matplotlib.axes._subplots.AxesSubplot at 0x7fe9627a0f60>"
            ]
          },
          "metadata": {
            "tags": []
          },
          "execution_count": 226
        },
        {
          "output_type": "display_data",
          "data": {
            "image/png": "[encoded data removed]",
            "text/plain": [
              "<Figure size 432x288 with 1 Axes>"
            ]
          },
          "metadata": {
            "tags": [],
            "needs_background": "light"
          }
        }
      ]
    },
    {
      "cell_type": "markdown",
      "metadata": {
        "id": "zOQC9PQ-sB7C",
        "colab_type": "text"
      },
      "source": [
        "*Random Forest*"
      ]
    },
    {
      "cell_type": "code",
      "metadata": {
        "id": "JgQLLNIN6xup",
        "colab_type": "code",
        "colab": {
          "base_uri": "https://localhost:8080/",
          "height": 34
        },
        "outputId": "b9313068-2040-4435-c504-e9abd3e518fb"
      },
      "source": [
        "from sklearn.ensemble import RandomForestRegressor\n",
        "rfr = RandomForestRegressor(max_depth=100, random_state=0)\n",
        "rfr.fit(X_train, Y_train)\n",
        "rfr.score(X_train, Y_train)"
      ],
      "execution_count": 228,
      "outputs": [
        {
          "output_type": "execute_result",
          "data": {
            "text/plain": [
              "0.9512339700467658"
            ]
          },
          "metadata": {
            "tags": []
          },
          "execution_count": 228
        }
      ]
    },
    {
      "cell_type": "code",
      "metadata": {
        "id": "AHZQvsfSa08V",
        "colab_type": "code",
        "colab": {
          "base_uri": "https://localhost:8080/",
          "height": 282
        },
        "outputId": "b54c8d9f-3492-419c-b7d7-d6bfac885fd3"
      },
      "source": [
        "Y_test_rfr = rfr.predict(X_test) \n",
        "sb.distplot(Y_test_rfr)"
      ],
      "execution_count": 229,
      "outputs": [
        {
          "output_type": "execute_result",
          "data": {
            "text/plain": [
              "<matplotlib.axes._subplots.AxesSubplot at 0x7fe961efef60>"
            ]
          },
          "metadata": {
            "tags": []
          },
          "execution_count": 229
        },
        {
          "output_type": "display_data",
          "data": {
            "image/png": "[encoded data removed]",
            "text/plain": [
              "<Figure size 432x288 with 1 Axes>"
            ]
          },
          "metadata": {
            "tags": [],
            "needs_background": "light"
          }
        }
      ]
    },
    {
      "cell_type": "markdown",
      "metadata": {
        "id": "416V6ahNsaqP",
        "colab_type": "text"
      },
      "source": [
        "*Combining all the predicted values to single DataFrame*"
      ]
    },
    {
      "cell_type": "code",
      "metadata": {
        "id": "6_mlX2def7_n",
        "colab_type": "code",
        "colab": {
          "base_uri": "https://localhost:8080/",
          "height": 204
        },
        "outputId": "7862f2ca-39f3-44c8-a91a-9ff1102e78d7"
      },
      "source": [
        "import pandas as pd\n",
        "final_df = pd.DataFrame(list(zip(test['city'],Y_test_reg,Y_test_dt,Y_test_abr,Y_test_clf,Y_test_mlpreg,Y_test_rfr)))\n",
        "final_df.head()"
      ],
      "execution_count": 231,
      "outputs": [
        {
          "output_type": "execute_result",
          "data": {
            "text/html": [
              "<div>\n",
              "<style scoped>\n",
              "    .dataframe tbody tr th:only-of-type {\n",
              "        vertical-align: middle;\n",
              "    }\n",
              "\n",
              "    .dataframe tbody tr th {\n",
              "        vertical-align: top;\n",
              "    }\n",
              "\n",
              "    .dataframe thead th {\n",
              "        text-align: right;\n",
              "    }\n",
              "</style>\n",
              "<table border=\"1\" class=\"dataframe\">\n",
              "  <thead>\n",
              "    <tr style=\"text-align: right;\">\n",
              "      <th></th>\n",
              "      <th>0</th>\n",
              "      <th>1</th>\n",
              "      <th>2</th>\n",
              "      <th>3</th>\n",
              "      <th>4</th>\n",
              "      <th>5</th>\n",
              "      <th>6</th>\n",
              "    </tr>\n",
              "  </thead>\n",
              "  <tbody>\n",
              "    <tr>\n",
              "      <th>0</th>\n",
              "      <td>tuensang</td>\n",
              "      <td>-34.079446</td>\n",
              "      <td>2096.326250</td>\n",
              "      <td>8336.437500</td>\n",
              "      <td>2096.326250</td>\n",
              "      <td>306.483592</td>\n",
              "      <td>2075.90</td>\n",
              "    </tr>\n",
              "    <tr>\n",
              "      <th>1</th>\n",
              "      <td>lakshmeshwar</td>\n",
              "      <td>2840.193511</td>\n",
              "      <td>2471.761207</td>\n",
              "      <td>11118.028571</td>\n",
              "      <td>2471.761207</td>\n",
              "      <td>895.227029</td>\n",
              "      <td>2262.74</td>\n",
              "    </tr>\n",
              "    <tr>\n",
              "      <th>2</th>\n",
              "      <td>zira</td>\n",
              "      <td>1225.735291</td>\n",
              "      <td>2628.252843</td>\n",
              "      <td>11170.800926</td>\n",
              "      <td>2628.252843</td>\n",
              "      <td>688.710751</td>\n",
              "      <td>2886.85</td>\n",
              "    </tr>\n",
              "    <tr>\n",
              "      <th>3</th>\n",
              "      <td>yawal</td>\n",
              "      <td>8014.684972</td>\n",
              "      <td>4593.677042</td>\n",
              "      <td>13833.333333</td>\n",
              "      <td>4593.677042</td>\n",
              "      <td>3362.858306</td>\n",
              "      <td>2229.43</td>\n",
              "    </tr>\n",
              "    <tr>\n",
              "      <th>4</th>\n",
              "      <td>thanabhawan</td>\n",
              "      <td>4410.051278</td>\n",
              "      <td>2305.605863</td>\n",
              "      <td>6773.885057</td>\n",
              "      <td>2305.605863</td>\n",
              "      <td>2446.803348</td>\n",
              "      <td>2486.03</td>\n",
              "    </tr>\n",
              "  </tbody>\n",
              "</table>\n",
              "</div>"
            ],
            "text/plain": [
              "              0            1            2  ...            4            5        6\n",
              "0      tuensang   -34.079446  2096.326250  ...  2096.326250   306.483592  2075.90\n",
              "1  lakshmeshwar  2840.193511  2471.761207  ...  2471.761207   895.227029  2262.74\n",
              "2          zira  1225.735291  2628.252843  ...  2628.252843   688.710751  2886.85\n",
              "3         yawal  8014.684972  4593.677042  ...  4593.677042  3362.858306  2229.43\n",
              "4   thanabhawan  4410.051278  2305.605863  ...  2305.605863  2446.803348  2486.03\n",
              "\n",
              "[5 rows x 7 columns]"
            ]
          },
          "metadata": {
            "tags": []
          },
          "execution_count": 231
        }
      ]
    },
    {
      "cell_type": "markdown",
      "metadata": {
        "id": "W_e2R8qxsgLi",
        "colab_type": "text"
      },
      "source": [
        "*Renaming the column names*"
      ]
    },
    {
      "cell_type": "code",
      "metadata": {
        "id": "g9N2W5QxgvUw",
        "colab_type": "code",
        "colab": {
          "base_uri": "https://localhost:8080/",
          "height": 204
        },
        "outputId": "c81b804a-5e35-4a05-a87b-b0ec1f863adb"
      },
      "source": [
        "final_df.columns = ['City', 'Linear_Regression','Decision_tree','AdaBoost','GradientBoosting','MLP','RandomForest']\n",
        "final_df.head()"
      ],
      "execution_count": 237,
      "outputs": [
        {
          "output_type": "execute_result",
          "data": {
            "text/html": [
              "<div>\n",
              "<style scoped>\n",
              "    .dataframe tbody tr th:only-of-type {\n",
              "        vertical-align: middle;\n",
              "    }\n",
              "\n",
              "    .dataframe tbody tr th {\n",
              "        vertical-align: top;\n",
              "    }\n",
              "\n",
              "    .dataframe thead th {\n",
              "        text-align: right;\n",
              "    }\n",
              "</style>\n",
              "<table border=\"1\" class=\"dataframe\">\n",
              "  <thead>\n",
              "    <tr style=\"text-align: right;\">\n",
              "      <th></th>\n",
              "      <th>City</th>\n",
              "      <th>Linear_Regression</th>\n",
              "      <th>Decision_tree</th>\n",
              "      <th>AdaBoost</th>\n",
              "      <th>GradientBoosting</th>\n",
              "      <th>MLP</th>\n",
              "      <th>RandomForest</th>\n",
              "    </tr>\n",
              "  </thead>\n",
              "  <tbody>\n",
              "    <tr>\n",
              "      <th>0</th>\n",
              "      <td>tuensang</td>\n",
              "      <td>-34.079446</td>\n",
              "      <td>2096.326250</td>\n",
              "      <td>8336.437500</td>\n",
              "      <td>2096.326250</td>\n",
              "      <td>306.483592</td>\n",
              "      <td>2075.90</td>\n",
              "    </tr>\n",
              "    <tr>\n",
              "      <th>1</th>\n",
              "      <td>lakshmeshwar</td>\n",
              "      <td>2840.193511</td>\n",
              "      <td>2471.761207</td>\n",
              "      <td>11118.028571</td>\n",
              "      <td>2471.761207</td>\n",
              "      <td>895.227029</td>\n",
              "      <td>2262.74</td>\n",
              "    </tr>\n",
              "    <tr>\n",
              "      <th>2</th>\n",
              "      <td>zira</td>\n",
              "      <td>1225.735291</td>\n",
              "      <td>2628.252843</td>\n",
              "      <td>11170.800926</td>\n",
              "      <td>2628.252843</td>\n",
              "      <td>688.710751</td>\n",
              "      <td>2886.85</td>\n",
              "    </tr>\n",
              "    <tr>\n",
              "      <th>3</th>\n",
              "      <td>yawal</td>\n",
              "      <td>8014.684972</td>\n",
              "      <td>4593.677042</td>\n",
              "      <td>13833.333333</td>\n",
              "      <td>4593.677042</td>\n",
              "      <td>3362.858306</td>\n",
              "      <td>2229.43</td>\n",
              "    </tr>\n",
              "    <tr>\n",
              "      <th>4</th>\n",
              "      <td>thanabhawan</td>\n",
              "      <td>4410.051278</td>\n",
              "      <td>2305.605863</td>\n",
              "      <td>6773.885057</td>\n",
              "      <td>2305.605863</td>\n",
              "      <td>2446.803348</td>\n",
              "      <td>2486.03</td>\n",
              "    </tr>\n",
              "  </tbody>\n",
              "</table>\n",
              "</div>"
            ],
            "text/plain": [
              "           City  Linear_Regression  ...          MLP  RandomForest\n",
              "0      tuensang         -34.079446  ...   306.483592       2075.90\n",
              "1  lakshmeshwar        2840.193511  ...   895.227029       2262.74\n",
              "2          zira        1225.735291  ...   688.710751       2886.85\n",
              "3         yawal        8014.684972  ...  3362.858306       2229.43\n",
              "4   thanabhawan        4410.051278  ...  2446.803348       2486.03\n",
              "\n",
              "[5 rows x 7 columns]"
            ]
          },
          "metadata": {
            "tags": []
          },
          "execution_count": 237
        }
      ]
    },
    {
      "cell_type": "markdown",
      "metadata": {
        "id": "xx1dJNqXsuPz",
        "colab_type": "text"
      },
      "source": [
        "*Exporting as CSV File*"
      ]
    },
    {
      "cell_type": "code",
      "metadata": {
        "id": "bPljIhE0kag-",
        "colab_type": "code",
        "colab": {}
      },
      "source": [
        "final_df.to_csv('model_prediction.csv')\n",
        "\n",
        "from google.colab import files\n",
        "files.download('model_prediction.csv')"
      ],
      "execution_count": 234,
      "outputs": []
    }
  ]
}